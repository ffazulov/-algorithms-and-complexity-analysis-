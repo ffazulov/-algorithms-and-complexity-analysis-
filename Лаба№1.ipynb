{
 "cells": [
  {
   "cell_type": "markdown",
   "id": "29d3e0fb",
   "metadata": {},
   "source": [
    "# Задание №1"
   ]
  },
  {
   "cell_type": "code",
   "execution_count": 1,
   "id": "9761ead5",
   "metadata": {},
   "outputs": [],
   "source": [
    "import random\n",
    "import pandas as pd\n",
    "import time\n",
    "import matplotlib.pyplot as plt"
   ]
  },
  {
   "cell_type": "code",
   "execution_count": 2,
   "id": "2f9eca0d",
   "metadata": {},
   "outputs": [],
   "source": [
    "def create_array(N: int) ->int:\n",
    "    \"\"\"Создание рандомно заполненного массива.\"\"\"\n",
    "    result_array = [random.randint(1, 50) for i in range(N)]\n",
    "    return result_array"
   ]
  },
  {
   "cell_type": "code",
   "execution_count": 3,
   "id": "323e3d2c",
   "metadata": {},
   "outputs": [],
   "source": [
    "N = [1, 2, 3, 4, 5, 6, 7, 8, 9, 10]\n",
    "times_work_sort = []\n",
    "times_work_find = []\n",
    "times_work_reverse = []"
   ]
  },
  {
   "cell_type": "code",
   "execution_count": 4,
   "id": "06afffc9",
   "metadata": {},
   "outputs": [],
   "source": [
    "def sort_bubble(array):\n",
    "    for i in range(len(array)-1):\n",
    "        for j in range(len(array)-i-1):\n",
    "            if array[j] > array[j+1]:\n",
    "                array[j], array[j+1] = array[j+1], array[j]"
   ]
  },
  {
   "cell_type": "markdown",
   "id": "f79ebf01",
   "metadata": {},
   "source": [
    "Замер каждого алгоритма и запись в соответствующий список"
   ]
  },
  {
   "cell_type": "code",
   "execution_count": 5,
   "id": "be89c807",
   "metadata": {},
   "outputs": [],
   "source": [
    "import time\n",
    "import matplotlib.pyplot as plt"
   ]
  },
  {
   "cell_type": "code",
   "execution_count": 6,
   "id": "e6cc159a",
   "metadata": {},
   "outputs": [],
   "source": [
    "def algor(num:int)->'array':\n",
    "    \"\"\"Функция создает и сортирует массив.\"\"\"\n",
    "    array_of_N = create_array(num)\n",
    "    sort_bubble(array_of_N)"
   ]
  },
  {
   "cell_type": "code",
   "execution_count": 7,
   "id": "a605aa06",
   "metadata": {},
   "outputs": [
    {
     "name": "stdout",
     "output_type": "stream",
     "text": [
      "5.36 µs ± 73.6 ns per loop (mean ± std. dev. of 2 runs, 100,000 loops each)\n",
      "9.54 µs ± 128 ns per loop (mean ± std. dev. of 2 runs, 100,000 loops each)\n",
      "13.8 µs ± 256 ns per loop (mean ± std. dev. of 2 runs, 100,000 loops each)\n",
      "19.3 µs ± 663 ns per loop (mean ± std. dev. of 2 runs, 100,000 loops each)\n",
      "24.3 µs ± 760 ns per loop (mean ± std. dev. of 2 runs, 10,000 loops each)\n",
      "29.1 µs ± 396 ns per loop (mean ± std. dev. of 2 runs, 10,000 loops each)\n",
      "35.4 µs ± 145 ns per loop (mean ± std. dev. of 2 runs, 10,000 loops each)\n",
      "42.1 µs ± 201 ns per loop (mean ± std. dev. of 2 runs, 10,000 loops each)\n",
      "49.9 µs ± 241 ns per loop (mean ± std. dev. of 2 runs, 10,000 loops each)\n",
      "58.4 µs ± 1.92 µs per loop (mean ± std. dev. of 2 runs, 10,000 loops each)\n"
     ]
    },
    {
     "data": {
      "text/plain": [
       "[5.357167129999993e-06,\n",
       " 9.535328809999992e-06,\n",
       " 1.3825258294999986e-05,\n",
       " 1.9290371890000006e-05,\n",
       " 2.431122900000009e-05,\n",
       " 2.9065239799999885e-05,\n",
       " 3.540613285000002e-05,\n",
       " 4.213618074999985e-05,\n",
       " 4.986686214999985e-05,\n",
       " 5.843512889999971e-05]"
      ]
     },
     "execution_count": 7,
     "metadata": {},
     "output_type": "execute_result"
    }
   ],
   "source": [
    "#-r2 делает замер алгоритма 2 раза, вместо 7\n",
    "for i in N:\n",
    "    time_result= %timeit -o -r2 algor(i)\n",
    "    times_work_sort.append(time_result.average)\n",
    "times_work_sort"
   ]
  },
  {
   "cell_type": "code",
   "execution_count": 8,
   "id": "0a511edb",
   "metadata": {},
   "outputs": [
    {
     "data": {
      "text/plain": [
       "Text(0, 0.5, 'Для сравнения \"Переменная/Мой анализ\"')"
      ]
     },
     "execution_count": 8,
     "metadata": {},
     "output_type": "execute_result"
    },
    {
     "data": {
      "image/png": "[encoded data removed]",
      "text/plain": [
       "<Figure size 432x288 with 2 Axes>"
      ]
     },
     "metadata": {
      "needs_background": "light"
     },
     "output_type": "display_data"
    }
   ],
   "source": [
    "fig, ax = plt.subplots() #создаём набор подграфиков\n",
    "ax1 = ax.twinx() #создаётся новая ось справа\n",
    "ax.plot(N,times_work_sort, color='r')\n",
    "ax.set_ylabel(\"Для сравнения \\\"Переменная/Время работы\\\"\")\n",
    "ax.set_xlabel(\"Значение переменной\")\n",
    "ax1.plot(N,[i**2 for i  in N],color='b')\n",
    "ax1.set_ylabel(\"Для сравнения \\\"Переменная/Мой анализ\\\"\")"
   ]
  },
  {
   "cell_type": "markdown",
   "id": "a62c3534",
   "metadata": {},
   "source": [
    "Второй алгоритм, замер времени и составление графа"
   ]
  },
  {
   "cell_type": "code",
   "execution_count": 9,
   "id": "fe2236af",
   "metadata": {},
   "outputs": [],
   "source": [
    "def find_of_array(num: int, array)->\"True/False\":\n",
    "    \"\"\"Функция находит или не находит заданное число в массиве.\"\"\"\n",
    "    answer = False\n",
    "    for el in array:\n",
    "        if el == num:\n",
    "            answer = True\n",
    "            break\n",
    "    return answer"
   ]
  },
  {
   "cell_type": "code",
   "execution_count": 10,
   "id": "fc6e59d2",
   "metadata": {},
   "outputs": [
    {
     "name": "stdout",
     "output_type": "stream",
     "text": [
      "5.02 µs ± 131 ns per loop (mean ± std. dev. of 2 runs, 100,000 loops each)\n",
      "7.87 µs ± 283 ns per loop (mean ± std. dev. of 2 runs, 100,000 loops each)\n",
      "10.1 µs ± 30.1 ns per loop (mean ± std. dev. of 2 runs, 100,000 loops each)\n",
      "12.9 µs ± 203 ns per loop (mean ± std. dev. of 2 runs, 100,000 loops each)\n",
      "14.6 µs ± 832 ns per loop (mean ± std. dev. of 2 runs, 100,000 loops each)\n",
      "16.7 µs ± 395 ns per loop (mean ± std. dev. of 2 runs, 100,000 loops each)\n",
      "18.8 µs ± 17.6 ns per loop (mean ± std. dev. of 2 runs, 100,000 loops each)\n",
      "21.4 µs ± 35.6 ns per loop (mean ± std. dev. of 2 runs, 10,000 loops each)\n",
      "23.2 µs ± 55.3 ns per loop (mean ± std. dev. of 2 runs, 10,000 loops each)\n",
      "31.5 µs ± 2.36 µs per loop (mean ± std. dev. of 2 runs, 10,000 loops each)\n"
     ]
    },
    {
     "data": {
      "text/plain": [
       "[5.017811549999998e-06,\n",
       " 7.868265685000005e-06,\n",
       " 1.0084008585e-05,\n",
       " 1.2945000265000033e-05,\n",
       " 1.4594777584999968e-05,\n",
       " 1.673889919499999e-05,\n",
       " 1.8815897290000014e-05,\n",
       " 2.1375785249999523e-05,\n",
       " 2.322105685000011e-05,\n",
       " 3.146226555000027e-05]"
      ]
     },
     "execution_count": 10,
     "metadata": {},
     "output_type": "execute_result"
    }
   ],
   "source": [
    "for i in N:\n",
    "    time_result = %timeit -o -r2 find_of_array(i, create_array(i))\n",
    "    times_work_find.append(time_result.average)\n",
    "times_work_find"
   ]
  },
  {
   "cell_type": "code",
   "execution_count": 11,
   "id": "abc99f82",
   "metadata": {},
   "outputs": [
    {
     "data": {
      "text/plain": [
       "Text(0, 0.5, 'Для сравнения \"Переменная/Мой анализ\"')"
      ]
     },
     "execution_count": 11,
     "metadata": {},
     "output_type": "execute_result"
    },
    {
     "data": {
      "image/png": "[encoded data removed]",
      "text/plain": [
       "<Figure size 432x288 with 2 Axes>"
      ]
     },
     "metadata": {
      "needs_background": "light"
     },
     "output_type": "display_data"
    }
   ],
   "source": [
    "fig, ax = plt.subplots()\n",
    "ax1 = ax.twinx()\n",
    "ax.plot(N,times_work_find, color='r')\n",
    "ax.set_ylabel(\"Для сравнения \\\"Переменная/Время работы\\\"\")\n",
    "ax.set_xlabel(\"Значение переменной\")\n",
    "ax1.plot(N,[i for i  in N],color='b')\n",
    "ax1.set_ylabel(\"Для сравнения \\\"Переменная/Мой анализ\\\"\")"
   ]
  },
  {
   "cell_type": "markdown",
   "id": "20d516fd",
   "metadata": {},
   "source": [
    "Третий алгоритм, замер времени и составление графика"
   ]
  },
  {
   "cell_type": "code",
   "execution_count": 12,
   "id": "995f884a",
   "metadata": {},
   "outputs": [],
   "source": [
    "def my_reverse(array)->'array':\n",
    "    result_array = []\n",
    "    for el in range(len(array), 0, -1):\n",
    "        result_array.append(el)\n",
    "    return result_array"
   ]
  },
  {
   "cell_type": "code",
   "execution_count": 14,
   "id": "0fd596fc",
   "metadata": {},
   "outputs": [
    {
     "name": "stdout",
     "output_type": "stream",
     "text": [
      "5.82 µs ± 22.8 ns per loop (mean ± std. dev. of 2 runs, 100,000 loops each)\n",
      "9.06 µs ± 343 ns per loop (mean ± std. dev. of 2 runs, 100,000 loops each)\n",
      "11.7 µs ± 189 ns per loop (mean ± std. dev. of 2 runs, 100,000 loops each)\n",
      "14.6 µs ± 381 ns per loop (mean ± std. dev. of 2 runs, 100,000 loops each)\n",
      "16.9 µs ± 79.7 ns per loop (mean ± std. dev. of 2 runs, 100,000 loops each)\n",
      "21 µs ± 612 ns per loop (mean ± std. dev. of 2 runs, 100,000 loops each)\n",
      "23.2 µs ± 306 ns per loop (mean ± std. dev. of 2 runs, 10,000 loops each)\n",
      "30.3 µs ± 79.8 ns per loop (mean ± std. dev. of 2 runs, 10,000 loops each)\n",
      "28.9 µs ± 198 ns per loop (mean ± std. dev. of 2 runs, 10,000 loops each)\n",
      "30.5 µs ± 546 ns per loop (mean ± std. dev. of 2 runs, 10,000 loops each)\n"
     ]
    },
    {
     "data": {
      "text/plain": [
       "[5.817859889999966e-06,\n",
       " 9.060341279999876e-06,\n",
       " 1.1749106535000066e-05,\n",
       " 1.457929987500009e-05,\n",
       " 1.6877018869999887e-05,\n",
       " 2.0953309109999906e-05,\n",
       " 2.3168224900000213e-05,\n",
       " 3.026803245000025e-05,\n",
       " 2.8862824150000675e-05,\n",
       " 3.052747970000098e-05]"
      ]
     },
     "execution_count": 14,
     "metadata": {},
     "output_type": "execute_result"
    }
   ],
   "source": [
    "for i in N:\n",
    "    time_result = %timeit -o -r2 my_reverse(create_array(i))\n",
    "    times_work_reverse.append(time_result.average)\n",
    "times_work_reverse"
   ]
  },
  {
   "cell_type": "code",
   "execution_count": 15,
   "id": "0b2b3539",
   "metadata": {},
   "outputs": [
    {
     "data": {
      "text/plain": [
       "Text(0, 0.5, 'Для сравнения \"Переменная/Мой анализ\"')"
      ]
     },
     "execution_count": 15,
     "metadata": {},
     "output_type": "execute_result"
    },
    {
     "data": {
      "image/png": "[encoded data removed]",
      "text/plain": [
       "<Figure size 432x288 with 2 Axes>"
      ]
     },
     "metadata": {
      "needs_background": "light"
     },
     "output_type": "display_data"
    }
   ],
   "source": [
    "fig, ax = plt.subplots()\n",
    "ax1 = ax.twinx()\n",
    "ax.plot(N,times_work_reverse, color='r')\n",
    "ax.set_ylabel(\"Для сравнения \\\"Переменная/Время работы\\\"\")\n",
    "ax.set_xlabel(\"Значение переменной\")\n",
    "ax1.plot(N,[i for i  in N],color='b')\n",
    "ax1.set_ylabel(\"Для сравнения \\\"Переменная/Мой анализ\\\"\")"
   ]
  },
  {
   "cell_type": "markdown",
   "id": "a5ca72c2",
   "metadata": {},
   "source": [
    "# Задание №2"
   ]
  },
  {
   "cell_type": "code",
   "execution_count": 17,
   "id": "1a5788a4",
   "metadata": {},
   "outputs": [],
   "source": [
    "variables = {\"variables3\": [random.randint(1,100) for i in range(500)],\n",
    "\"variables2\": [random.randint(1,100) for i in range(100)],\n",
    "\"variables1\": [random.randint(1,100) for i in range(50)]}"
   ]
  },
  {
   "cell_type": "code",
   "execution_count": 16,
   "id": "b4666be0",
   "metadata": {},
   "outputs": [],
   "source": [
    "def sort_bubble(array):\n",
    "    for i in range(len(array)-1):\n",
    "        for j in range(len(array)-i-1):\n",
    "            if array[j] > array[j+1]:\n",
    "                array[j], array[j+1] = array[j+1], array[j]\n",
    "\n",
    "def my_reverse(array)->'array':\n",
    "    result_array = []\n",
    "    for el in range(len(array), 0, -1):\n",
    "        result_array.append(el)\n",
    "    return result_array\n",
    "\n",
    "# sorted()\n",
    "# reversed()"
   ]
  },
  {
   "cell_type": "code",
   "execution_count": 18,
   "id": "443dffec",
   "metadata": {},
   "outputs": [
    {
     "data": {
      "text/html": [
       "<div>\n",
       "<style scoped>\n",
       "    .dataframe tbody tr th:only-of-type {\n",
       "        vertical-align: middle;\n",
       "    }\n",
       "\n",
       "    .dataframe tbody tr th {\n",
       "        vertical-align: top;\n",
       "    }\n",
       "\n",
       "    .dataframe thead th {\n",
       "        text-align: right;\n",
       "    }\n",
       "</style>\n",
       "<table border=\"1\" class=\"dataframe\">\n",
       "  <thead>\n",
       "    <tr style=\"text-align: right;\">\n",
       "      <th></th>\n",
       "      <th>Параметры</th>\n",
       "      <th>Переменная</th>\n",
       "      <th>Готовая реализация</th>\n",
       "      <th>Собственная реализация</th>\n",
       "    </tr>\n",
       "  </thead>\n",
       "  <tbody>\n",
       "    <tr>\n",
       "      <th>0</th>\n",
       "      <td>Лучший случай</td>\n",
       "      <td>N=50</td>\n",
       "      <td>12</td>\n",
       "      <td>12</td>\n",
       "    </tr>\n",
       "    <tr>\n",
       "      <th>1</th>\n",
       "      <td>Средний</td>\n",
       "      <td>N=50</td>\n",
       "      <td>13</td>\n",
       "      <td>12</td>\n",
       "    </tr>\n",
       "    <tr>\n",
       "      <th>2</th>\n",
       "      <td>Худший</td>\n",
       "      <td>N=50</td>\n",
       "      <td>14</td>\n",
       "      <td>12</td>\n",
       "    </tr>\n",
       "    <tr>\n",
       "      <th>3</th>\n",
       "      <td>Лучший случай</td>\n",
       "      <td>N=100</td>\n",
       "      <td>15</td>\n",
       "      <td>12</td>\n",
       "    </tr>\n",
       "    <tr>\n",
       "      <th>4</th>\n",
       "      <td>Средний</td>\n",
       "      <td>N=100</td>\n",
       "      <td>16</td>\n",
       "      <td>12</td>\n",
       "    </tr>\n",
       "    <tr>\n",
       "      <th>5</th>\n",
       "      <td>Худший</td>\n",
       "      <td>N=100</td>\n",
       "      <td>17</td>\n",
       "      <td>12</td>\n",
       "    </tr>\n",
       "    <tr>\n",
       "      <th>6</th>\n",
       "      <td>Лучший случай</td>\n",
       "      <td>N=500</td>\n",
       "      <td>18</td>\n",
       "      <td>12</td>\n",
       "    </tr>\n",
       "    <tr>\n",
       "      <th>7</th>\n",
       "      <td>Средний</td>\n",
       "      <td>N=500</td>\n",
       "      <td>19</td>\n",
       "      <td>12</td>\n",
       "    </tr>\n",
       "    <tr>\n",
       "      <th>8</th>\n",
       "      <td>Худший</td>\n",
       "      <td>N=500</td>\n",
       "      <td>10</td>\n",
       "      <td>12</td>\n",
       "    </tr>\n",
       "  </tbody>\n",
       "</table>\n",
       "</div>"
      ],
      "text/plain": [
       "       Параметры Переменная  Готовая реализация  Собственная реализация\n",
       "0  Лучший случай       N=50                  12                      12\n",
       "1        Средний       N=50                  13                      12\n",
       "2         Худший       N=50                  14                      12\n",
       "3  Лучший случай      N=100                  15                      12\n",
       "4        Средний      N=100                  16                      12\n",
       "5         Худший      N=100                  17                      12\n",
       "6  Лучший случай      N=500                  18                      12\n",
       "7        Средний      N=500                  19                      12\n",
       "8         Худший      N=500                  10                      12"
      ]
     },
     "execution_count": 18,
     "metadata": {},
     "output_type": "execute_result"
    }
   ],
   "source": [
    "df = pd.DataFrame({\n",
    "     'Параметры': ['Лучший случай', \"Средний\", \"Худший\", 'Лучший случай', \"Средний\", \"Худший\", 'Лучший случай', \"Средний\", \"Худший\"],\n",
    "     'Переменная': ['N=50', \"N=50\", \"N=50\", 'N=100', \"N=100\", \"N=100\", 'N=500', \"N=500\", \"N=500\"],\n",
    "     'Готовая реализация': [12, 13, 14, 15, 16, 17, 18, 19, 10],\n",
    "     'Собственная реализация': [12, 12, 12, 12, 12, 12, 12, 12, 12]})\n",
    "df"
   ]
  },
  {
   "cell_type": "code",
   "execution_count": 32,
   "id": "68692c21",
   "metadata": {},
   "outputs": [],
   "source": [
    "#функция высчитывает лучший/худший/средний случай времени работы алгоритма\n",
    "def froze_time(function, variable):\n",
    "    if option == \"Лучший случай\":\n",
    "        result = %timeit -o -r3 function(variable)\n",
    "        return result.best\n",
    "    if option == \"Средний\":\n",
    "        result = %timeit -o -r3 function(variable)\n",
    "        return result.average\n",
    "    if option == \"Худший\":\n",
    "        result = %timeit -o -r3 function(variable)\n",
    "        return result.worst\n"
   ]
  },
  {
   "cell_type": "code",
   "execution_count": 33,
   "id": "01fed508",
   "metadata": {
    "scrolled": true
   },
   "outputs": [
    {
     "name": "stdout",
     "output_type": "stream",
     "text": [
      "310 µs ± 13.9 µs per loop (mean ± std. dev. of 3 runs, 1,000 loops each)\n",
      "325 µs ± 16.7 µs per loop (mean ± std. dev. of 3 runs, 1,000 loops each)\n",
      "341 µs ± 15.1 µs per loop (mean ± std. dev. of 3 runs, 1,000 loops each)\n"
     ]
    }
   ],
   "source": [
    "options = [\"Лучший случай\", \"Средний\", \"Худший\"]\n",
    "i = 0\n",
    "for option in options:\n",
    "    time = froze_time(sort_bubble, variables['variables1'])\n",
    "    df.loc[i,'Собственная реализация'] = time\n",
    "    i+=1"
   ]
  },
  {
   "cell_type": "code",
   "execution_count": 34,
   "id": "016245a9",
   "metadata": {},
   "outputs": [
    {
     "name": "stdout",
     "output_type": "stream",
     "text": [
      "1.26 ms ± 30.8 µs per loop (mean ± std. dev. of 3 runs, 1,000 loops each)\n",
      "1.27 ms ± 39 µs per loop (mean ± std. dev. of 3 runs, 1,000 loops each)\n",
      "1.28 ms ± 47.6 µs per loop (mean ± std. dev. of 3 runs, 1,000 loops each)\n"
     ]
    }
   ],
   "source": [
    "options = [\"Лучший случай\", \"Средний\", \"Худший\"]\n",
    "i = 3\n",
    "for option in options:\n",
    "    time = froze_time(sort_bubble, variables['variables2'])\n",
    "    df.loc[i,'Собственная реализация'] = time\n",
    "    i+=1"
   ]
  },
  {
   "cell_type": "code",
   "execution_count": 35,
   "id": "877374f6",
   "metadata": {},
   "outputs": [
    {
     "name": "stdout",
     "output_type": "stream",
     "text": [
      "30.4 ms ± 179 µs per loop (mean ± std. dev. of 3 runs, 10 loops each)\n",
      "31.6 ms ± 923 µs per loop (mean ± std. dev. of 3 runs, 10 loops each)\n",
      "30.7 ms ± 62.9 µs per loop (mean ± std. dev. of 3 runs, 10 loops each)\n"
     ]
    }
   ],
   "source": [
    "options = [\"Лучший случай\", \"Средний\", \"Худший\"]\n",
    "i = 6\n",
    "for option in options:\n",
    "    time = froze_time(sort_bubble, variables['variables3'])\n",
    "    df.loc[i,'Собственная реализация'] = time\n",
    "    i+=1"
   ]
  },
  {
   "cell_type": "code",
   "execution_count": 24,
   "id": "49ca7936",
   "metadata": {},
   "outputs": [
    {
     "name": "stdout",
     "output_type": "stream",
     "text": [
      "1.46 µs ± 14.1 ns per loop (mean ± std. dev. of 3 runs, 1,000,000 loops each)\n",
      "1.47 µs ± 36.5 ns per loop (mean ± std. dev. of 3 runs, 1,000,000 loops each)\n",
      "1.56 µs ± 91.2 ns per loop (mean ± std. dev. of 3 runs, 1,000,000 loops each)\n"
     ]
    }
   ],
   "source": [
    "options = [\"Лучший случай\", \"Средний\", \"Худший\"]\n",
    "i = 0\n",
    "for option in options:\n",
    "    time = froze_time(sorted, variables['variables1'])\n",
    "    df.loc[i,'Готовая реализация'] = time*100\n",
    "    i+=1"
   ]
  },
  {
   "cell_type": "code",
   "execution_count": 26,
   "id": "9ec24774",
   "metadata": {},
   "outputs": [
    {
     "name": "stdout",
     "output_type": "stream",
     "text": [
      "2.48 µs ± 103 ns per loop (mean ± std. dev. of 3 runs, 100,000 loops each)\n",
      "2.48 µs ± 24.6 ns per loop (mean ± std. dev. of 3 runs, 100,000 loops each)\n",
      "2.48 µs ± 91.4 ns per loop (mean ± std. dev. of 3 runs, 100,000 loops each)\n"
     ]
    }
   ],
   "source": [
    "options = [\"Лучший случай\", \"Средний\", \"Худший\"]\n",
    "i = 3\n",
    "for option in options:\n",
    "    time = froze_time(sorted, variables['variables2'])\n",
    "    df.loc[i,'Готовая реализация'] = time*100\n",
    "    i+=1"
   ]
  },
  {
   "cell_type": "code",
   "execution_count": 27,
   "id": "9747342f",
   "metadata": {},
   "outputs": [
    {
     "name": "stdout",
     "output_type": "stream",
     "text": [
      "9.97 µs ± 220 ns per loop (mean ± std. dev. of 3 runs, 100,000 loops each)\n",
      "9.62 µs ± 94.5 ns per loop (mean ± std. dev. of 3 runs, 100,000 loops each)\n",
      "9.46 µs ± 209 ns per loop (mean ± std. dev. of 3 runs, 100,000 loops each)\n"
     ]
    }
   ],
   "source": [
    "options = [\"Лучший случай\", \"Средний\", \"Худший\"]\n",
    "i = 6\n",
    "for option in options:\n",
    "    time = froze_time(sorted, variables['variables3'])\n",
    "    df.loc[i,'Готовая реализация'] = time*100\n",
    "    i+=1"
   ]
  },
  {
   "cell_type": "code",
   "execution_count": 28,
   "id": "536e4ddf",
   "metadata": {},
   "outputs": [
    {
     "data": {
      "text/html": [
       "<div>\n",
       "<style scoped>\n",
       "    .dataframe tbody tr th:only-of-type {\n",
       "        vertical-align: middle;\n",
       "    }\n",
       "\n",
       "    .dataframe tbody tr th {\n",
       "        vertical-align: top;\n",
       "    }\n",
       "\n",
       "    .dataframe thead th {\n",
       "        text-align: right;\n",
       "    }\n",
       "</style>\n",
       "<table border=\"1\" class=\"dataframe\">\n",
       "  <thead>\n",
       "    <tr style=\"text-align: right;\">\n",
       "      <th></th>\n",
       "      <th>Параметры</th>\n",
       "      <th>Переменная</th>\n",
       "      <th>Готовая реализация</th>\n",
       "      <th>Собственная реализация</th>\n",
       "    </tr>\n",
       "  </thead>\n",
       "  <tbody>\n",
       "    <tr>\n",
       "      <th>0</th>\n",
       "      <td>Лучший случай</td>\n",
       "      <td>N=50</td>\n",
       "      <td>0.000144</td>\n",
       "      <td>0.000301</td>\n",
       "    </tr>\n",
       "    <tr>\n",
       "      <th>1</th>\n",
       "      <td>Средний</td>\n",
       "      <td>N=50</td>\n",
       "      <td>0.000147</td>\n",
       "      <td>0.000324</td>\n",
       "    </tr>\n",
       "    <tr>\n",
       "      <th>2</th>\n",
       "      <td>Худший</td>\n",
       "      <td>N=50</td>\n",
       "      <td>0.000169</td>\n",
       "      <td>0.000337</td>\n",
       "    </tr>\n",
       "    <tr>\n",
       "      <th>3</th>\n",
       "      <td>Лучший случай</td>\n",
       "      <td>N=100</td>\n",
       "      <td>0.000237</td>\n",
       "      <td>0.001234</td>\n",
       "    </tr>\n",
       "    <tr>\n",
       "      <th>4</th>\n",
       "      <td>Средний</td>\n",
       "      <td>N=100</td>\n",
       "      <td>0.000248</td>\n",
       "      <td>0.001259</td>\n",
       "    </tr>\n",
       "    <tr>\n",
       "      <th>5</th>\n",
       "      <td>Худший</td>\n",
       "      <td>N=100</td>\n",
       "      <td>0.000261</td>\n",
       "      <td>0.001290</td>\n",
       "    </tr>\n",
       "    <tr>\n",
       "      <th>6</th>\n",
       "      <td>Лучший случай</td>\n",
       "      <td>N=500</td>\n",
       "      <td>0.000970</td>\n",
       "      <td>0.030320</td>\n",
       "    </tr>\n",
       "    <tr>\n",
       "      <th>7</th>\n",
       "      <td>Средний</td>\n",
       "      <td>N=500</td>\n",
       "      <td>0.000962</td>\n",
       "      <td>0.035056</td>\n",
       "    </tr>\n",
       "    <tr>\n",
       "      <th>8</th>\n",
       "      <td>Худший</td>\n",
       "      <td>N=500</td>\n",
       "      <td>0.000963</td>\n",
       "      <td>0.036776</td>\n",
       "    </tr>\n",
       "  </tbody>\n",
       "</table>\n",
       "</div>"
      ],
      "text/plain": [
       "       Параметры Переменная  Готовая реализация  Собственная реализация\n",
       "0  Лучший случай       N=50            0.000144                0.000301\n",
       "1        Средний       N=50            0.000147                0.000324\n",
       "2         Худший       N=50            0.000169                0.000337\n",
       "3  Лучший случай      N=100            0.000237                0.001234\n",
       "4        Средний      N=100            0.000248                0.001259\n",
       "5         Худший      N=100            0.000261                0.001290\n",
       "6  Лучший случай      N=500            0.000970                0.030320\n",
       "7        Средний      N=500            0.000962                0.035056\n",
       "8         Худший      N=500            0.000963                0.036776"
      ]
     },
     "execution_count": 28,
     "metadata": {},
     "output_type": "execute_result"
    }
   ],
   "source": [
    "df"
   ]
  },
  {
   "cell_type": "code",
   "execution_count": 45,
   "id": "3d3331a4",
   "metadata": {},
   "outputs": [
    {
     "data": {
      "text/html": [
       "<div>\n",
       "<style scoped>\n",
       "    .dataframe tbody tr th:only-of-type {\n",
       "        vertical-align: middle;\n",
       "    }\n",
       "\n",
       "    .dataframe tbody tr th {\n",
       "        vertical-align: top;\n",
       "    }\n",
       "\n",
       "    .dataframe thead th {\n",
       "        text-align: right;\n",
       "    }\n",
       "</style>\n",
       "<table border=\"1\" class=\"dataframe\">\n",
       "  <thead>\n",
       "    <tr style=\"text-align: right;\">\n",
       "      <th></th>\n",
       "      <th>Параметры</th>\n",
       "      <th>Переменная</th>\n",
       "      <th>Готовая реализация</th>\n",
       "      <th>Собственная реализация</th>\n",
       "    </tr>\n",
       "  </thead>\n",
       "  <tbody>\n",
       "    <tr>\n",
       "      <th>0</th>\n",
       "      <td>Лучший случай</td>\n",
       "      <td>N=50</td>\n",
       "      <td>12</td>\n",
       "      <td>12</td>\n",
       "    </tr>\n",
       "    <tr>\n",
       "      <th>1</th>\n",
       "      <td>Средний</td>\n",
       "      <td>N=50</td>\n",
       "      <td>13</td>\n",
       "      <td>12</td>\n",
       "    </tr>\n",
       "    <tr>\n",
       "      <th>2</th>\n",
       "      <td>Худший</td>\n",
       "      <td>N=50</td>\n",
       "      <td>14</td>\n",
       "      <td>12</td>\n",
       "    </tr>\n",
       "    <tr>\n",
       "      <th>3</th>\n",
       "      <td>Лучший случай</td>\n",
       "      <td>N=100</td>\n",
       "      <td>15</td>\n",
       "      <td>12</td>\n",
       "    </tr>\n",
       "    <tr>\n",
       "      <th>4</th>\n",
       "      <td>Средний</td>\n",
       "      <td>N=100</td>\n",
       "      <td>16</td>\n",
       "      <td>12</td>\n",
       "    </tr>\n",
       "    <tr>\n",
       "      <th>5</th>\n",
       "      <td>Худший</td>\n",
       "      <td>N=100</td>\n",
       "      <td>17</td>\n",
       "      <td>12</td>\n",
       "    </tr>\n",
       "    <tr>\n",
       "      <th>6</th>\n",
       "      <td>Лучший случай</td>\n",
       "      <td>N=500</td>\n",
       "      <td>18</td>\n",
       "      <td>12</td>\n",
       "    </tr>\n",
       "    <tr>\n",
       "      <th>7</th>\n",
       "      <td>Средний</td>\n",
       "      <td>N=500</td>\n",
       "      <td>19</td>\n",
       "      <td>12</td>\n",
       "    </tr>\n",
       "    <tr>\n",
       "      <th>8</th>\n",
       "      <td>Худший</td>\n",
       "      <td>N=500</td>\n",
       "      <td>10</td>\n",
       "      <td>12</td>\n",
       "    </tr>\n",
       "  </tbody>\n",
       "</table>\n",
       "</div>"
      ],
      "text/plain": [
       "       Параметры Переменная  Готовая реализация  Собственная реализация\n",
       "0  Лучший случай       N=50                  12                      12\n",
       "1        Средний       N=50                  13                      12\n",
       "2         Худший       N=50                  14                      12\n",
       "3  Лучший случай      N=100                  15                      12\n",
       "4        Средний      N=100                  16                      12\n",
       "5         Худший      N=100                  17                      12\n",
       "6  Лучший случай      N=500                  18                      12\n",
       "7        Средний      N=500                  19                      12\n",
       "8         Худший      N=500                  10                      12"
      ]
     },
     "execution_count": 45,
     "metadata": {},
     "output_type": "execute_result"
    }
   ],
   "source": [
    "df2 = pd.DataFrame({\n",
    "     'Параметры': ['Лучший случай', \"Средний\", \"Худший\", 'Лучший случай', \"Средний\", \"Худший\", 'Лучший случай', \"Средний\", \"Худший\"],\n",
    "     'Переменная': ['N=50', \"N=50\", \"N=50\", 'N=100', \"N=100\", \"N=100\", 'N=500', \"N=500\", \"N=500\"],\n",
    "     'Готовая реализация': [12, 13, 14, 15, 16, 17, 18, 19, 10],\n",
    "     'Собственная реализация': [12, 12, 12, 12, 12, 12, 12, 12, 12]})\n",
    "df2"
   ]
  },
  {
   "cell_type": "code",
   "execution_count": 63,
   "id": "c1c6b6a4",
   "metadata": {},
   "outputs": [
    {
     "name": "stdout",
     "output_type": "stream",
     "text": [
      "9.62 µs ± 422 ns per loop (mean ± std. dev. of 3 runs, 100,000 loops each)\n",
      "9.67 µs ± 224 ns per loop (mean ± std. dev. of 3 runs, 100,000 loops each)\n",
      "9.8 µs ± 217 ns per loop (mean ± std. dev. of 3 runs, 100,000 loops each)\n"
     ]
    }
   ],
   "source": [
    "options = [\"Лучший случай\", \"Средний\", \"Худший\"]\n",
    "i = 0\n",
    "for option in options:\n",
    "    time = froze_time(my_reverse, variables['variables1'])\n",
    "    df2.loc[i,'Собственная реализация'] = time*100\n",
    "    i+=1"
   ]
  },
  {
   "cell_type": "code",
   "execution_count": 64,
   "id": "80345626",
   "metadata": {},
   "outputs": [
    {
     "name": "stdout",
     "output_type": "stream",
     "text": [
      "18.1 µs ± 435 ns per loop (mean ± std. dev. of 3 runs, 100,000 loops each)\n",
      "16.8 µs ± 603 ns per loop (mean ± std. dev. of 3 runs, 100,000 loops each)\n",
      "17.9 µs ± 673 ns per loop (mean ± std. dev. of 3 runs, 100,000 loops each)\n"
     ]
    }
   ],
   "source": [
    "options = [\"Лучший случай\", \"Средний\", \"Худший\"]\n",
    "i = 3\n",
    "for option in options:\n",
    "    time = froze_time(my_reverse, variables['variables2'])\n",
    "    df2.loc[i,'Собственная реализация'] = time*100\n",
    "    i+=1"
   ]
  },
  {
   "cell_type": "code",
   "execution_count": 65,
   "id": "4ed82378",
   "metadata": {},
   "outputs": [
    {
     "name": "stdout",
     "output_type": "stream",
     "text": [
      "101 µs ± 2.84 µs per loop (mean ± std. dev. of 3 runs, 10,000 loops each)\n",
      "99.2 µs ± 1.75 µs per loop (mean ± std. dev. of 3 runs, 10,000 loops each)\n",
      "110 µs ± 7.22 µs per loop (mean ± std. dev. of 3 runs, 10,000 loops each)\n"
     ]
    }
   ],
   "source": [
    "options = [\"Лучший случай\", \"Средний\", \"Худший\"]\n",
    "i = 6\n",
    "for option in options:\n",
    "    time = froze_time(my_reverse, variables['variables3'])\n",
    "    df2.loc[i,'Собственная реализация'] = time*100\n",
    "    i+=1"
   ]
  },
  {
   "cell_type": "code",
   "execution_count": 49,
   "id": "7e11a809",
   "metadata": {},
   "outputs": [
    {
     "name": "stdout",
     "output_type": "stream",
     "text": [
      "405 ns ± 14.5 ns per loop (mean ± std. dev. of 3 runs, 1,000,000 loops each)\n",
      "407 ns ± 6.26 ns per loop (mean ± std. dev. of 3 runs, 1,000,000 loops each)\n",
      "382 ns ± 11.2 ns per loop (mean ± std. dev. of 3 runs, 1,000,000 loops each)\n"
     ]
    }
   ],
   "source": [
    "options = [\"Лучший случай\", \"Средний\", \"Худший\"]\n",
    "i = 0\n",
    "for option in options:\n",
    "    time = froze_time(reversed, variables['variables1'])\n",
    "    df2.loc[i,'Готовая реализация'] = time*100\n",
    "    i+=1"
   ]
  },
  {
   "cell_type": "code",
   "execution_count": 50,
   "id": "e4037b0f",
   "metadata": {},
   "outputs": [
    {
     "name": "stdout",
     "output_type": "stream",
     "text": [
      "517 ns ± 62.1 ns per loop (mean ± std. dev. of 3 runs, 1,000,000 loops each)\n",
      "381 ns ± 0.666 ns per loop (mean ± std. dev. of 3 runs, 1,000,000 loops each)\n",
      "392 ns ± 13.7 ns per loop (mean ± std. dev. of 3 runs, 1,000,000 loops each)\n"
     ]
    }
   ],
   "source": [
    "options = [\"Лучший случай\", \"Средний\", \"Худший\"]\n",
    "i = 3\n",
    "for option in options:\n",
    "    time = froze_time(reversed, variables['variables2'])\n",
    "    df2.loc[i,'Готовая реализация'] = time*100\n",
    "    i+=1"
   ]
  },
  {
   "cell_type": "code",
   "execution_count": 51,
   "id": "784d3112",
   "metadata": {},
   "outputs": [
    {
     "name": "stdout",
     "output_type": "stream",
     "text": [
      "413 ns ± 12.3 ns per loop (mean ± std. dev. of 3 runs, 1,000,000 loops each)\n",
      "390 ns ± 10.2 ns per loop (mean ± std. dev. of 3 runs, 1,000,000 loops each)\n",
      "400 ns ± 11 ns per loop (mean ± std. dev. of 3 runs, 1,000,000 loops each)\n"
     ]
    }
   ],
   "source": [
    "options = [\"Лучший случай\", \"Средний\", \"Худший\"]\n",
    "i = 6\n",
    "for option in options:\n",
    "    time = froze_time(reversed, variables['variables3'])\n",
    "    df2.loc[i,'Готовая реализация'] = time*100\n",
    "    i+=1"
   ]
  },
  {
   "cell_type": "code",
   "execution_count": 62,
   "id": "0c0d245b",
   "metadata": {},
   "outputs": [
    {
     "data": {
      "text/html": [
       "<div>\n",
       "<style scoped>\n",
       "    .dataframe tbody tr th:only-of-type {\n",
       "        vertical-align: middle;\n",
       "    }\n",
       "\n",
       "    .dataframe tbody tr th {\n",
       "        vertical-align: top;\n",
       "    }\n",
       "\n",
       "    .dataframe thead th {\n",
       "        text-align: right;\n",
       "    }\n",
       "</style>\n",
       "<table border=\"1\" class=\"dataframe\">\n",
       "  <thead>\n",
       "    <tr style=\"text-align: right;\">\n",
       "      <th></th>\n",
       "      <th>Параметры</th>\n",
       "      <th>Переменная</th>\n",
       "      <th>Готовая реализация</th>\n",
       "      <th>Собственная реализация</th>\n",
       "    </tr>\n",
       "  </thead>\n",
       "  <tbody>\n",
       "    <tr>\n",
       "      <th>0</th>\n",
       "      <td>Лучший случай</td>\n",
       "      <td>N=50</td>\n",
       "      <td>0.000039</td>\n",
       "      <td>0.008409</td>\n",
       "    </tr>\n",
       "    <tr>\n",
       "      <th>1</th>\n",
       "      <td>Средний</td>\n",
       "      <td>N=50</td>\n",
       "      <td>0.000041</td>\n",
       "      <td>0.009497</td>\n",
       "    </tr>\n",
       "    <tr>\n",
       "      <th>2</th>\n",
       "      <td>Худший</td>\n",
       "      <td>N=50</td>\n",
       "      <td>0.000040</td>\n",
       "      <td>0.010662</td>\n",
       "    </tr>\n",
       "    <tr>\n",
       "      <th>3</th>\n",
       "      <td>Лучший случай</td>\n",
       "      <td>N=100</td>\n",
       "      <td>0.000047</td>\n",
       "      <td>0.000936</td>\n",
       "    </tr>\n",
       "    <tr>\n",
       "      <th>4</th>\n",
       "      <td>Средний</td>\n",
       "      <td>N=100</td>\n",
       "      <td>0.000038</td>\n",
       "      <td>0.000842</td>\n",
       "    </tr>\n",
       "    <tr>\n",
       "      <th>5</th>\n",
       "      <td>Худший</td>\n",
       "      <td>N=100</td>\n",
       "      <td>0.000041</td>\n",
       "      <td>0.000807</td>\n",
       "    </tr>\n",
       "    <tr>\n",
       "      <th>6</th>\n",
       "      <td>Лучший случай</td>\n",
       "      <td>N=500</td>\n",
       "      <td>0.000040</td>\n",
       "      <td>0.007969</td>\n",
       "    </tr>\n",
       "    <tr>\n",
       "      <th>7</th>\n",
       "      <td>Средний</td>\n",
       "      <td>N=500</td>\n",
       "      <td>0.000039</td>\n",
       "      <td>0.010256</td>\n",
       "    </tr>\n",
       "    <tr>\n",
       "      <th>8</th>\n",
       "      <td>Худший</td>\n",
       "      <td>N=500</td>\n",
       "      <td>0.000042</td>\n",
       "      <td>0.009149</td>\n",
       "    </tr>\n",
       "  </tbody>\n",
       "</table>\n",
       "</div>"
      ],
      "text/plain": [
       "       Параметры Переменная  Готовая реализация  Собственная реализация\n",
       "0  Лучший случай       N=50            0.000039                0.008409\n",
       "1        Средний       N=50            0.000041                0.009497\n",
       "2         Худший       N=50            0.000040                0.010662\n",
       "3  Лучший случай      N=100            0.000047                0.000936\n",
       "4        Средний      N=100            0.000038                0.000842\n",
       "5         Худший      N=100            0.000041                0.000807\n",
       "6  Лучший случай      N=500            0.000040                0.007969\n",
       "7        Средний      N=500            0.000039                0.010256\n",
       "8         Худший      N=500            0.000042                0.009149"
      ]
     },
     "execution_count": 62,
     "metadata": {},
     "output_type": "execute_result"
    }
   ],
   "source": [
    "df2"
   ]
  },
  {
   "cell_type": "code",
   "execution_count": null,
   "id": "7024b683",
   "metadata": {},
   "outputs": [],
   "source": []
  }
 ],
 "metadata": {
  "kernelspec": {
   "display_name": "Python 3 (ipykernel)",
   "language": "python",
   "name": "python3"
  },
  "language_info": {
   "codemirror_mode": {
    "name": "ipython",
    "version": 3
   },
   "file_extension": ".py",
   "mimetype": "text/x-python",
   "name": "python",
   "nbconvert_exporter": "python",
   "pygments_lexer": "ipython3",
   "version": "3.9.7"
  }
 },
 "nbformat": 4,
 "nbformat_minor": 5
}
